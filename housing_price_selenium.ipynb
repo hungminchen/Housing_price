{
 "cells": [
  {
   "cell_type": "code",
   "execution_count": 1,
   "metadata": {},
   "outputs": [],
   "source": [
    "from selenium import webdriver\n",
    "import time\n",
    "import sys\n",
    "import os\n",
    "import win32api\n",
    "import csv"
   ]
  },
  {
   "cell_type": "code",
   "execution_count": null,
   "metadata": {},
   "outputs": [],
   "source": [
    "#下一頁\n",
    "\n",
    "from selenium import webdriver\n",
    "import time\n",
    "\n",
    "url = \"https://evertrust.yungching.com.tw/region/%e5%8f%b0%e5%8c%97%e5%b8%82/%e4%b8%8d%e9%99%90/320#mainContent\"\n",
    "driver = webdriver.Chrome(\"C:/Users/chromedriver.exe\")\n",
    "\n",
    "keepgoing = True\n",
    "while keepgoing:\n",
    "   \n",
    "    print(url)\n",
    "    driver.implicitly_wait(2)\n",
    "    driver.get(url)\n",
    "    \n",
    "    next_paging_available = []\n",
    "    for i in driver.find_elements_by_xpath('/html/body/div[1]/div/div[2]/div[1]/div[4]/ul/li'):\n",
    "        if i.text == \"下一頁\":\n",
    "            next_paging_available.append(i)\n",
    "            \n",
    "    if next_paging_available == []:\n",
    "        keepgoing = False\n",
    "    else:\n",
    "        next_paging_available[0].click()\n",
    "        url = driver.current_url"
   ]
  },
  {
   "cell_type": "code",
   "execution_count": 2,
   "metadata": {},
   "outputs": [],
   "source": [
    "#載入每頁內容\n",
    "\n",
    "def load_page_info(td):\n",
    "    info = []\n",
    "    for i in range(0,len(td),10):\n",
    "        try:\n",
    "            if int(td[i].text) > 10000:\n",
    "                info.append(list([td[i].text, td[i+1].text, td[i+2].text.replace(\"\\n\", \" \").encode(sys.stdin.encoding, \"replace\").decode(sys.stdin.encoding), td[i+3].text, td[i+4].text, td[i+5].text, td[i+6].text, td[i+7].text, td[i+8].text, td[i+9].text]))\n",
    "        except ValueError:\n",
    "            break       \n",
    "    return info\n",
    "\n",
    "#url = \"https://evertrust.yungching.com.tw\"\n",
    "#driver = webdriver.Chrome(\"C:/Users/chromedriver.exe\")\n",
    "#driver.get(url)\n",
    "\n",
    "#td = driver.find_elements_by_css_selector(\"td\")\n",
    "#load_page_info(td)"
   ]
  },
  {
   "cell_type": "code",
   "execution_count": null,
   "metadata": {},
   "outputs": [],
   "source": [
    "#載入欄位title\n",
    "\n",
    "url = \"https://evertrust.yungching.com.tw\"\n",
    "driver = webdriver.Chrome(\"C:/Users/chromedriver.exe\")\n",
    "driver.get(url)\n",
    "\n",
    "titles = driver.find_elements_by_css_selector(\"th\")\n",
    "title = []\n",
    "\n",
    "for i in titles[:-2]:\n",
    "    title.append(i.text)\n",
    "    \n",
    "print(title)"
   ]
  },
  {
   "cell_type": "code",
   "execution_count": 3,
   "metadata": {},
   "outputs": [
    {
     "name": "stdout",
     "output_type": "stream",
     "text": [
      "['北市', '新北', '桃園', '竹市', '竹縣', '台中', '彰化', '台南', '高雄', '屏東', '宜蘭', '基隆', '南投', '雲林', '苗栗', '嘉市', '嘉縣', '花蓮', '台東', '金門', '澎湖']\n"
     ]
    }
   ],
   "source": [
    "#城市\n",
    "\n",
    "url = \"https://evertrust.yungching.com.tw\"\n",
    "driver = webdriver.Chrome(\"C:/Users/chromedriver.exe\")\n",
    "driver.get(url)\n",
    "\n",
    "cities = driver.find_elements_by_css_selector(\"dd\")\n",
    "\n",
    "city_list = cities[0].text.split(\"\\n\")\n",
    "print(city_list)"
   ]
  },
  {
   "cell_type": "code",
   "execution_count": 11,
   "metadata": {},
   "outputs": [],
   "source": [
    "#設定資料夾\n",
    "\n",
    "import win32api\n",
    "import os\n",
    "\n",
    "def create_folder():\n",
    "    path = \"C:\\\\Users\\\\\" + win32api.GetUserName() + \"\\\\housing\"\n",
    "\n",
    "    try:\n",
    "        if not os.path.exists(path):\n",
    "            os.mkdir(path)\n",
    "    except:\n",
    "        print(\"error path\")"
   ]
  },
  {
   "cell_type": "code",
   "execution_count": null,
   "metadata": {},
   "outputs": [],
   "source": [
    "#寫入CSV檔\n",
    "\n",
    "info = load_page_info(td)\n",
    "import csv\n",
    "\n",
    "with open(\"C:/Users/b5031/housing/taipei.csv\", \"w\", newline = \"\") as csvfile:\n",
    "    writer = csv.writer(csvfile)\n",
    "    \n",
    "    writer.writerow(title)\n",
    "    for i in range(len(info)):\n",
    "        writer.writerow(info[i])"
   ]
  },
  {
   "cell_type": "code",
   "execution_count": 19,
   "metadata": {},
   "outputs": [
    {
     "name": "stderr",
     "output_type": "stream",
     "text": [
      "Is writing data to csv file 北市...\n",
      "Is writing data to csv file 新北...\n"
     ]
    }
   ],
   "source": [
    "from selenium import webdriver\n",
    "import time\n",
    "import csv\n",
    "import os\n",
    "import sys\n",
    "\n",
    "url = \"https://evertrust.yungching.com.tw/region/%e5%8f%b0%e5%8c%97%e5%b8%82/%e4%b8%8d%e9%99%90?kw=&dt=&t=3&a=1&c=&x=25.0329694&y=121.5654177&d=3\"\n",
    "driver = webdriver.Chrome(\"C:/Users/chromedriver.exe\")\n",
    "driver.get(url)\n",
    "\n",
    "cities = driver.find_elements_by_css_selector(\"dd\")\n",
    "\n",
    "city_list = cities[0].text.split(\"\\n\")\n",
    "driver.refresh()\n",
    "\n",
    "driver.get(url)\n",
    "driver.implicitly_wait(2)\n",
    "\n",
    "\n",
    "create_folder()  #首先先創建資料夾\n",
    "    \n",
    "#針對城市爬取資料\n",
    "    \n",
    "\n",
    "    \n",
    "for i in range(1,3):\n",
    "    sys.stderr.write(\"Is writing data to csv file \" + city_list[i-1] +\"...\\n\")\n",
    "    time.sleep(2)\n",
    "    city_click = driver.find_element_by_xpath(\"//*[@id='wrap']/div[1]/div/div[2]/dl[1]/dd/ul/li[{}]/a\".format(i))\n",
    "    city_click.click()\n",
    "    \n",
    "    keepgoing = True\n",
    "    \n",
    "    city_name = city_list[i-1]\n",
    "    \n",
    "    data = []\n",
    "    while keepgoing:   \n",
    "\n",
    "        #print(driver.current_url)\n",
    "\n",
    "        td = driver.find_elements_by_css_selector(\"td\")\n",
    "        info = load_page_info(td)\n",
    "        data.append(info)\n",
    "            \n",
    "        next_paging_available = []\n",
    "        for i in driver.find_elements_by_xpath('/html/body/div[1]/div/div[2]/div[1]/div[4]/ul/li'):\n",
    "            if i.text == \"下一頁\":\n",
    "                next_paging_available.append(i)\n",
    "\n",
    "        if next_paging_available == []:\n",
    "            keepgoing = False\n",
    "            break\n",
    "        else:\n",
    "            driver.implicitly_wait(2)\n",
    "            next_paging_available[0].click()\n",
    "\n",
    "    titles = ['成交', '型態', '地址', '成交價', '建坪', '單價', '地坪', '樓別', '屋齡', '車位']\n",
    "\n",
    "    path = \"C:/Users/{0}/housing/{1}.csv\".format(win32api.GetUserName(),city_name)\n",
    "    \n",
    "    with open(path, \"w\", newline = \"\") as csvfile:\n",
    "        writer = csv.writer(csvfile)\n",
    "\n",
    "        writer.writerow(titles)\n",
    "        for i in range(len(data)):\n",
    "            writer.writerows(data[i])"
   ]
  },
  {
   "cell_type": "code",
   "execution_count": null,
   "metadata": {},
   "outputs": [],
   "source": []
  }
 ],
 "metadata": {
  "kernelspec": {
   "display_name": "Python 3",
   "language": "python",
   "name": "python3"
  },
  "language_info": {
   "codemirror_mode": {
    "name": "ipython",
    "version": 3
   },
   "file_extension": ".py",
   "mimetype": "text/x-python",
   "name": "python",
   "nbconvert_exporter": "python",
   "pygments_lexer": "ipython3",
   "version": "3.7.4"
  }
 },
 "nbformat": 4,
 "nbformat_minor": 2
}
